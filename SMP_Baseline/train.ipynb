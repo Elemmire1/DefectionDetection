{
 "cells": [
  {
   "cell_type": "code",
   "execution_count": null,
   "id": "fccbe076",
   "metadata": {},
   "outputs": [
    {
     "name": "stdout",
     "output_type": "stream",
     "text": [
      "使用设备: cuda\n",
      "创建模型: unet 使用编码器 efficientnet-b3\n"
     ]
    },
    {
     "name": "stderr",
     "output_type": "stream",
     "text": [
      "Epoch 1/30 - Training: 100%|██████████| 2200/2200 [06:26<00:00,  5.69it/s, loss=0.0149]\n",
      "Epoch 1/30 - Validation: 100%|██████████| 943/943 [01:16<00:00, 12.39it/s]\n"
     ]
    },
    {
     "name": "stdout",
     "output_type": "stream",
     "text": [
      "Epoch 1/30 - Train Loss: 0.1370, Val Loss: 0.0288\n",
      "✅ 保存最佳模型，验证损失: 0.0288\n"
     ]
    },
    {
     "name": "stderr",
     "output_type": "stream",
     "text": [
      "Epoch 2/30 - Training: 100%|██████████| 2200/2200 [06:33<00:00,  5.59it/s, loss=0.0029]\n",
      "Epoch 2/30 - Validation: 100%|██████████| 943/943 [01:14<00:00, 12.60it/s]\n"
     ]
    },
    {
     "name": "stdout",
     "output_type": "stream",
     "text": [
      "Epoch 2/30 - Train Loss: 0.0244, Val Loss: 0.0193\n",
      "✅ 保存最佳模型，验证损失: 0.0193\n"
     ]
    },
    {
     "name": "stderr",
     "output_type": "stream",
     "text": [
      "Epoch 3/30 - Training: 100%|██████████| 2200/2200 [06:33<00:00,  5.60it/s, loss=0.0009]\n",
      "Epoch 3/30 - Validation: 100%|██████████| 943/943 [01:15<00:00, 12.42it/s]\n"
     ]
    },
    {
     "name": "stdout",
     "output_type": "stream",
     "text": [
      "Epoch 3/30 - Train Loss: 0.0166, Val Loss: 0.0164\n",
      "✅ 保存最佳模型，验证损失: 0.0164\n"
     ]
    },
    {
     "name": "stderr",
     "output_type": "stream",
     "text": [
      "Epoch 4/30 - Training: 100%|██████████| 2200/2200 [06:31<00:00,  5.61it/s, loss=0.0132]\n",
      "Epoch 4/30 - Validation: 100%|██████████| 943/943 [01:12<00:00, 12.93it/s]\n"
     ]
    },
    {
     "name": "stdout",
     "output_type": "stream",
     "text": [
      "Epoch 4/30 - Train Loss: 0.0141, Val Loss: 0.0139\n",
      "✅ 保存最佳模型，验证损失: 0.0139\n"
     ]
    },
    {
     "name": "stderr",
     "output_type": "stream",
     "text": [
      "Epoch 5/30 - Training: 100%|██████████| 2200/2200 [06:37<00:00,  5.54it/s, loss=0.0060]\n",
      "Epoch 5/30 - Validation: 100%|██████████| 943/943 [01:13<00:00, 12.91it/s]\n"
     ]
    },
    {
     "name": "stdout",
     "output_type": "stream",
     "text": [
      "Epoch 5/30 - Train Loss: 0.0127, Val Loss: 0.0148\n"
     ]
    },
    {
     "name": "stderr",
     "output_type": "stream",
     "text": [
      "Epoch 6/30 - Training: 100%|██████████| 2200/2200 [06:33<00:00,  5.59it/s, loss=0.0045]\n",
      "Epoch 6/30 - Validation: 100%|██████████| 943/943 [01:16<00:00, 12.29it/s]\n"
     ]
    },
    {
     "name": "stdout",
     "output_type": "stream",
     "text": [
      "Epoch 6/30 - Train Loss: 0.0109, Val Loss: 0.0314\n"
     ]
    },
    {
     "name": "stderr",
     "output_type": "stream",
     "text": [
      "Epoch 7/30 - Training: 100%|██████████| 2200/2200 [06:33<00:00,  5.59it/s, loss=0.0003]\n",
      "Epoch 7/30 - Validation: 100%|██████████| 943/943 [01:17<00:00, 12.23it/s]\n"
     ]
    },
    {
     "name": "stdout",
     "output_type": "stream",
     "text": [
      "Epoch 7/30 - Train Loss: 0.0107, Val Loss: 0.0137\n",
      "✅ 保存最佳模型，验证损失: 0.0137\n"
     ]
    },
    {
     "name": "stderr",
     "output_type": "stream",
     "text": [
      "Epoch 8/30 - Training: 100%|██████████| 2200/2200 [06:34<00:00,  5.57it/s, loss=0.0008]\n",
      "Epoch 8/30 - Validation: 100%|██████████| 943/943 [01:15<00:00, 12.51it/s]\n"
     ]
    },
    {
     "name": "stdout",
     "output_type": "stream",
     "text": [
      "Epoch 8/30 - Train Loss: 0.0096, Val Loss: 0.0145\n"
     ]
    },
    {
     "name": "stderr",
     "output_type": "stream",
     "text": [
      "Epoch 9/30 - Training: 100%|██████████| 2200/2200 [06:31<00:00,  5.61it/s, loss=0.0000]\n",
      "Epoch 9/30 - Validation: 100%|██████████| 943/943 [01:15<00:00, 12.43it/s]\n"
     ]
    },
    {
     "name": "stdout",
     "output_type": "stream",
     "text": [
      "Epoch 9/30 - Train Loss: 0.0086, Val Loss: 0.0141\n"
     ]
    },
    {
     "name": "stderr",
     "output_type": "stream",
     "text": [
      "Epoch 10/30 - Training: 100%|██████████| 2200/2200 [06:31<00:00,  5.61it/s, loss=0.0001]\n",
      "Epoch 10/30 - Validation: 100%|██████████| 943/943 [01:15<00:00, 12.44it/s]\n"
     ]
    },
    {
     "name": "stdout",
     "output_type": "stream",
     "text": [
      "Epoch 10/30 - Train Loss: 0.0081, Val Loss: 0.0143\n"
     ]
    },
    {
     "name": "stderr",
     "output_type": "stream",
     "text": [
      "Epoch 11/30 - Training: 100%|██████████| 2200/2200 [06:33<00:00,  5.59it/s, loss=0.0046]\n",
      "Epoch 11/30 - Validation: 100%|██████████| 943/943 [01:14<00:00, 12.62it/s]\n"
     ]
    },
    {
     "name": "stdout",
     "output_type": "stream",
     "text": [
      "Epoch 11/30 - Train Loss: 0.0085, Val Loss: 0.0132\n",
      "✅ 保存最佳模型，验证损失: 0.0132\n"
     ]
    },
    {
     "name": "stderr",
     "output_type": "stream",
     "text": [
      "Epoch 12/30 - Training: 100%|██████████| 2200/2200 [06:36<00:00,  5.55it/s, loss=0.0001]\n",
      "Epoch 12/30 - Validation: 100%|██████████| 943/943 [01:16<00:00, 12.38it/s]\n"
     ]
    },
    {
     "name": "stdout",
     "output_type": "stream",
     "text": [
      "Epoch 12/30 - Train Loss: 0.0071, Val Loss: 0.0154\n"
     ]
    },
    {
     "name": "stderr",
     "output_type": "stream",
     "text": [
      "Epoch 13/30 - Training: 100%|██████████| 2200/2200 [06:36<00:00,  5.55it/s, loss=0.0002]\n",
      "Epoch 13/30 - Validation: 100%|██████████| 943/943 [01:16<00:00, 12.28it/s]\n"
     ]
    },
    {
     "name": "stdout",
     "output_type": "stream",
     "text": [
      "Epoch 13/30 - Train Loss: 0.0068, Val Loss: 0.0150\n"
     ]
    },
    {
     "name": "stderr",
     "output_type": "stream",
     "text": [
      "Epoch 14/30 - Training: 100%|██████████| 2200/2200 [06:31<00:00,  5.61it/s, loss=0.0098]\n",
      "Epoch 14/30 - Validation: 100%|██████████| 943/943 [01:15<00:00, 12.44it/s]\n"
     ]
    },
    {
     "name": "stdout",
     "output_type": "stream",
     "text": [
      "Epoch 14/30 - Train Loss: 0.0065, Val Loss: 0.0153\n"
     ]
    },
    {
     "name": "stderr",
     "output_type": "stream",
     "text": [
      "Epoch 15/30 - Training: 100%|██████████| 2200/2200 [06:35<00:00,  5.56it/s, loss=0.0246]\n",
      "Epoch 15/30 - Validation: 100%|██████████| 943/943 [01:14<00:00, 12.57it/s]\n"
     ]
    },
    {
     "name": "stdout",
     "output_type": "stream",
     "text": [
      "Epoch 15/30 - Train Loss: 0.0067, Val Loss: 0.0156\n"
     ]
    },
    {
     "name": "stderr",
     "output_type": "stream",
     "text": [
      "Epoch 16/30 - Training: 100%|██████████| 2200/2200 [06:32<00:00,  5.60it/s, loss=0.0108]\n",
      "Epoch 16/30 - Validation: 100%|██████████| 943/943 [01:14<00:00, 12.65it/s]\n"
     ]
    },
    {
     "name": "stdout",
     "output_type": "stream",
     "text": [
      "Epoch 16/30 - Train Loss: 0.0061, Val Loss: 0.0152\n",
      "早停触发，验证损失在 5 个周期内没有改善。\n"
     ]
    },
    {
     "data": {
      "image/png": "[encoded data removed]",
      "text/plain": [
       "<Figure size 1200x500 with 1 Axes>"
      ]
     },
     "metadata": {},
     "output_type": "display_data"
    },
    {
     "name": "stdout",
     "output_type": "stream",
     "text": [
      "✅ 训练完成! 最佳验证损失: 0.0132\n",
      "模型保存在: smp_unet_efficientnet-b3_best.pth\n"
     ]
    }
   ],
   "source": [
    "import torch\n",
    "import torch.nn as nn\n",
    "from torch.utils.data import DataLoader, random_split\n",
    "from model import SMPModel, get_smp_model\n",
    "from dataset import SteelDataset\n",
    "import torchvision.transforms as T\n",
    "import pandas as pd\n",
    "from tqdm import tqdm\n",
    "import os\n",
    "import segmentation_models_pytorch as smp\n",
    "import matplotlib.pyplot as plt\n",
    "\n",
    "# 数据加载\n",
    "df = pd.read_csv(\"../data/train.csv\")\n",
    "transform = T.Compose([\n",
    "    T.ToTensor(),\n",
    "])\n",
    "\n",
    "dataset = None\n",
    "dataset = SteelDataset(df, \"../data/train_images\", transform)\n",
    "\n",
    "# 划分训练/验证集\n",
    "train_len = int(0.7 * len(dataset))\n",
    "val_len = len(dataset) - train_len\n",
    "train_set, val_set = random_split(dataset, [train_len, val_len])\n",
    "train_loader = DataLoader(train_set, batch_size=4, shuffle=True)\n",
    "val_loader = DataLoader(val_set, batch_size=4)\n",
    "\n",
    "# 设备配置\n",
    "device = torch.device(\"cuda\" if torch.cuda.is_available() else \"cpu\")\n",
    "print(f\"使用设备: {device}\")\n",
    "\n",
    "# 选择模型类型和编码器\n",
    "model_type = \"unet\"  # 可选: 'unet', 'fpn', 'pspnet', 'deeplabv3', 'deeplabv3plus', 'unet++'\n",
    "encoder_name = \"efficientnet-b3\"  # 可选: 'resnet34', 'efficientnet-b0', 'mobilenet_v2', 'efficientnet-b3'\n",
    "classes = 4  # 四种钢铁缺陷类别\n",
    "\n",
    "# 创建模型\n",
    "model = None\n",
    "model = get_smp_model(model_type, encoder_name, classes).to(device)\n",
    "print(f\"创建模型: {model_type} 使用编码器 {encoder_name}\")\n",
    "\n",
    "# 优化器\n",
    "optimizer = torch.optim.Adam(model.parameters(), lr=1e-4)\n",
    "\n",
    "# 使用 SMP 的损失函数\n",
    "# DiceLoss 适合分割任务\n",
    "dice_loss = smp.losses.DiceLoss(mode='multilabel')\n",
    "# 也可以使用组合损失函数\n",
    "bce_loss = smp.losses.SoftBCEWithLogitsLoss()\n",
    "focal_loss = smp.losses.FocalLoss(mode='multilabel', gamma=2.0, alpha=0.8)\n",
    "# loss_fn = lambda pred, target: dice_loss(pred, target) + focal_loss(pred, target)\n",
    "# loss_fn = lambda pred, target: dice_loss(pred, target) + bce_loss(pred, target)\n",
    "loss_fn = lambda pred, target: focal_loss(pred, target) + bce_loss(pred, target)\n",
    "\n",
    "# 训练参数\n",
    "num_epochs = 30\n",
    "early_stop_patience = 5\n",
    "early_stop_count = 0\n",
    "best_val_loss = float('inf')\n",
    "\n",
    "# 创建保存检查点的文件夹\n",
    "os.makedirs(\"pretrained\", exist_ok=True)\n",
    "\n",
    "train_losses = []\n",
    "val_losses = []\n",
    "\n",
    "# 训练循环\n",
    "for epoch in range(num_epochs):\n",
    "    # 训练阶段\n",
    "    model.train()\n",
    "    train_loss = 0.0\n",
    "    train_bar = tqdm(train_loader, desc=f\"Epoch {epoch+1}/{num_epochs} - Training\")\n",
    "\n",
    "    for imgs, masks in train_bar:\n",
    "        imgs, masks = imgs.to(device), masks.to(device)\n",
    "\n",
    "        # 前向传播\n",
    "        outputs = model(imgs)\n",
    "        loss = loss_fn(outputs, masks)\n",
    "\n",
    "        # 反向传播和优化\n",
    "        optimizer.zero_grad()\n",
    "        loss.backward()\n",
    "        optimizer.step()\n",
    "\n",
    "        # 更新进度条\n",
    "        train_loss += loss.item()\n",
    "        train_bar.set_postfix(loss=f\"{loss.item():.4f}\")\n",
    "\n",
    "    avg_train_loss = train_loss / len(train_loader)\n",
    "    train_losses.append(avg_train_loss)\n",
    "\n",
    "    # 验证阶段\n",
    "    model.eval()\n",
    "    val_loss = 0.0\n",
    "    First = True\n",
    "    with torch.no_grad():\n",
    "        for imgs, masks in tqdm(val_loader, desc=f\"Epoch {epoch+1}/{num_epochs} - Validation\"):\n",
    "            imgs, masks = imgs.to(device), masks.to(device)\n",
    "            outputs = model(imgs)\n",
    "            loss = loss_fn(outputs, masks)\n",
    "            val_loss += loss.item()\n",
    "\n",
    "    avg_val_loss = val_loss / len(val_loader)\n",
    "    val_losses.append(avg_val_loss)\n",
    "\n",
    "    # 打印训练和验证损失\n",
    "    print(f\"Epoch {epoch+1}/{num_epochs} - Train Loss: {avg_train_loss:.4f}, Val Loss: {avg_val_loss:.4f}\")\n",
    "\n",
    "    # 保存最佳模型\n",
    "    if avg_val_loss < best_val_loss:\n",
    "        best_val_loss = avg_val_loss\n",
    "        torch.save(model.state_dict(), f\"pretrained/smp_{model_type}_{encoder_name}_best.pth\")\n",
    "        print(f\"✅ 保存最佳模型，验证损失: {best_val_loss:.4f}\")\n",
    "        early_stop_count = 0\n",
    "    else:\n",
    "        early_stop_count += 1\n",
    "\n",
    "    # 保存最新的检查点\n",
    "    torch.save({\n",
    "        'epoch': epoch,\n",
    "        'model_state_dict': model.state_dict(),\n",
    "        'optimizer_state_dict': optimizer.state_dict(),\n",
    "        'train_loss': avg_train_loss,\n",
    "        'val_loss': avg_val_loss,\n",
    "    }, f\"pretrained/smp_{model_type}_{encoder_name}_latest.pth\")\n",
    "\n",
    "    if early_stop_count >= early_stop_patience:\n",
    "        print(f\"早停触发，验证损失在 {early_stop_patience} 个周期内没有改善。\")\n",
    "        break\n",
    "\n",
    "plt.figure(figsize=(12, 5))\n",
    "plt.plot(train_losses, label='Train Loss')\n",
    "plt.plot(val_losses, label='Val Loss')\n",
    "plt.xlabel('Epoch')\n",
    "plt.ylabel('Loss')\n",
    "plt.title('Loss per Epoch')\n",
    "plt.legend()\n",
    "plt.grid(True)\n",
    "plt.show()\n",
    "\n",
    "print(f\"✅ 训练完成! 最佳验证损失: {best_val_loss:.4f}\")\n",
    "print(f\"模型保存在: pretrained/smp_{model_type}_{encoder_name}_best.pth\")"
   ]
  }
 ],
 "metadata": {
  "kernelspec": {
   "display_name": "steel",
   "language": "python",
   "name": "python3"
  },
  "language_info": {
   "codemirror_mode": {
    "name": "ipython",
    "version": 3
   },
   "file_extension": ".py",
   "mimetype": "text/x-python",
   "name": "python",
   "nbconvert_exporter": "python",
   "pygments_lexer": "ipython3",
   "version": "3.13.2"
  }
 },
 "nbformat": 4,
 "nbformat_minor": 5
}
